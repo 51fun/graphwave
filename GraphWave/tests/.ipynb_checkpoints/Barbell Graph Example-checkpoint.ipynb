{
 "cells": [
  {
   "cell_type": "markdown",
   "metadata": {},
   "source": [
    "<h1><center> Barbell Graph </center> </h1>\n",
    "\n",
    "\n",
    "This is the code for the Barbell Graph experiment described in figure 3 of the paper.\n"
   ]
  },
  {
   "cell_type": "markdown",
   "metadata": {},
   "source": [
    "## I. Create the graph and visualize\n",
    "\n",
    "(Unfortunately, the nx.draw(G) does not yield a very clean picture, but we basically have two cliques of densely connected nodes, linked by a chain)"
   ]
  },
  {
   "cell_type": "code",
   "execution_count": 4,
   "metadata": {
    "collapsed": false
   },
   "outputs": [
    {
     "ename": "ImportError",
     "evalue": "No module named shapes.shapes",
     "output_type": "error",
     "traceback": [
      "\u001b[0;31m---------------------------------------------------------------------------\u001b[0m",
      "\u001b[0;31mImportError\u001b[0m                               Traceback (most recent call last)",
      "\u001b[0;32m<ipython-input-4-cd56b3dbe886>\u001b[0m in \u001b[0;36m<module>\u001b[0;34m()\u001b[0m\n\u001b[1;32m     16\u001b[0m \u001b[0;34m\u001b[0m\u001b[0m\n\u001b[1;32m     17\u001b[0m \u001b[0mdirpath_default\u001b[0m\u001b[0;34m=\u001b[0m\u001b[0mos\u001b[0m\u001b[0;34m.\u001b[0m\u001b[0mgetcwd\u001b[0m\u001b[0;34m(\u001b[0m\u001b[0;34m)\u001b[0m\u001b[0;34m\u001b[0m\u001b[0m\n\u001b[0;32m---> 18\u001b[0;31m \u001b[0;32mfrom\u001b[0m \u001b[0mshapes\u001b[0m\u001b[0;34m.\u001b[0m\u001b[0mshapes\u001b[0m \u001b[0;32mimport\u001b[0m \u001b[0;34m*\u001b[0m\u001b[0;34m\u001b[0m\u001b[0m\n\u001b[0m\u001b[1;32m     19\u001b[0m \u001b[0;32mfrom\u001b[0m \u001b[0mdistances\u001b[0m\u001b[0;34m.\u001b[0m\u001b[0mdistances_signature\u001b[0m \u001b[0;32mimport\u001b[0m \u001b[0;34m*\u001b[0m\u001b[0;34m\u001b[0m\u001b[0m\n\u001b[1;32m     20\u001b[0m \u001b[0;32mfrom\u001b[0m \u001b[0mheat_diffusion\u001b[0m \u001b[0;32mimport\u001b[0m \u001b[0;34m*\u001b[0m\u001b[0;34m\u001b[0m\u001b[0m\n",
      "\u001b[0;31mImportError\u001b[0m: No module named shapes.shapes"
     ]
    }
   ],
   "source": [
    "%matplotlib inline\n",
    "#### Tests like paper\n",
    "import matplotlib.pyplot as plt\n",
    "import networkx as nx \n",
    "import numpy as np\n",
    "import pandas as pd\n",
    "import seaborn as sb\n",
    "import sklearn as sk\n",
    "from sklearn.cluster import KMeans\n",
    "from sklearn.manifold import TSNE\n",
    "\n",
    "\n",
    "\n",
    "from shapes.shapes import *\n",
    "from distances.distances_signature import *\n",
    "from heat_diffusion import *\n",
    "import pickle\n",
    "from performance_evaluation.purity import *\n",
    "from characteristic_functions import *\n",
    "from graphwave import *\n",
    "\n",
    "\n",
    "name_graph='barbell'\n",
    "sb.set_style('white')\n",
    "G,colors=barbel_graph(start=0,N1=8, N2=5,plot=True,savefig=False)\n",
    "N=nx.number_of_nodes(G)\n",
    "Gg = pygsp.graphs.Graph(nx.adjacency_matrix(G))\n",
    "Gg.create_laplacian(\"normalized\")\n",
    "Gg.lap_type=\"normalized\"\n",
    "Gg.compute_fourier_basis(force_recompute=True)\n",
    "eigenvec=Gg.e\n",
    "plt.figure()\n",
    "plt.plot(eigenvec)\n",
    "plt.title('Eigenvalues of the Laplacian')"
   ]
  },
  {
   "cell_type": "code",
   "execution_count": 7,
   "metadata": {
    "collapsed": false
   },
   "outputs": [
    {
     "name": "stderr",
     "output_type": "stream",
     "text": [
      "2017-11-05 10:19:48,003:[INFO](pygsp.filters.filter.__init__): Heat : has to compute lmax\n",
      "2017-11-05 10:19:48,006:[INFO](pygsp.filters.filter.analysis): The analysis method is cheby\n",
      "2017-11-05 10:19:48,013:[INFO](pygsp.filters.filter.analysis): The analysis method is cheby\n",
      "2017-11-05 10:19:48,021:[INFO](pygsp.filters.filter.analysis): The analysis method is cheby\n",
      "2017-11-05 10:19:48,026:[INFO](pygsp.filters.filter.analysis): The analysis method is cheby\n",
      "2017-11-05 10:19:48,032:[INFO](pygsp.filters.filter.analysis): The analysis method is cheby\n",
      "2017-11-05 10:19:48,038:[INFO](pygsp.filters.filter.analysis): The analysis method is cheby\n",
      "2017-11-05 10:19:48,056:[INFO](pygsp.filters.filter.analysis): The analysis method is cheby\n",
      "2017-11-05 10:19:48,081:[INFO](pygsp.filters.filter.analysis): The analysis method is cheby\n",
      "2017-11-05 10:19:48,135:[INFO](pygsp.filters.filter.analysis): The analysis method is cheby\n",
      "2017-11-05 10:19:48,146:[INFO](pygsp.filters.filter.analysis): The analysis method is cheby\n",
      "2017-11-05 10:19:48,159:[INFO](pygsp.filters.filter.analysis): The analysis method is cheby\n",
      "2017-11-05 10:19:48,169:[INFO](pygsp.filters.filter.analysis): The analysis method is cheby\n",
      "2017-11-05 10:19:48,176:[INFO](pygsp.filters.filter.analysis): The analysis method is cheby\n",
      "2017-11-05 10:19:48,184:[INFO](pygsp.filters.filter.analysis): The analysis method is cheby\n",
      "2017-11-05 10:19:48,218:[INFO](pygsp.filters.filter.analysis): The analysis method is cheby\n",
      "2017-11-05 10:19:48,247:[INFO](pygsp.filters.filter.analysis): The analysis method is cheby\n",
      "2017-11-05 10:19:48,259:[INFO](pygsp.filters.filter.analysis): The analysis method is cheby\n",
      "2017-11-05 10:19:48,309:[INFO](pygsp.filters.filter.analysis): The analysis method is cheby\n",
      "2017-11-05 10:19:48,333:[INFO](pygsp.filters.filter.analysis): The analysis method is cheby\n",
      "2017-11-05 10:19:48,354:[INFO](pygsp.filters.filter.analysis): The analysis method is cheby\n",
      "2017-11-05 10:19:48,379:[INFO](pygsp.filters.filter.analysis): The analysis method is cheby\n",
      "2017-11-05 10:19:48,411:[INFO](pygsp.filters.filter.analysis): The analysis method is cheby\n",
      "2017-11-05 10:19:48,427:[INFO](pygsp.filters.filter.analysis): The analysis method is cheby\n",
      "2017-11-05 10:19:48,474:[INFO](pygsp.filters.filter.analysis): The analysis method is cheby\n",
      "2017-11-05 10:19:48,579:[INFO](pygsp.filters.filter.analysis): The analysis method is cheby\n",
      "2017-11-05 10:19:48,614:[INFO](pygsp.filters.filter.analysis): The analysis method is cheby\n",
      "2017-11-05 10:19:48,624:[INFO](pygsp.filters.filter.analysis): The analysis method is cheby\n"
     ]
    }
   ],
   "source": [
    "chi,heat_print, taus=graphwave(G, taus=range(19,21), verbose=True)"
   ]
  },
  {
   "cell_type": "code",
   "execution_count": 17,
   "metadata": {
    "collapsed": false
   },
   "outputs": [
    {
     "data": {
      "image/png": "[encoded data removed]",
      "text/plain": [
       "<matplotlib.figure.Figure at 0x112ec1c50>"
      ]
     },
     "metadata": {},
     "output_type": "display_data"
    }
   ],
   "source": [
    "from sklearn.decomposition import PCA\n",
    "from sklearn.preprocessing import StandardScaler\n",
    "from sklearn.cluster import KMeans\n",
    "nb_clust=len(np.unique(colors))\n",
    "pca=PCA(n_components=5)\n",
    "trans_data=pca.fit_transform(StandardScaler().fit_transform(chi))\n",
    "km=sk.cluster.KMeans(n_clusters=nb_clust)\n",
    "km.fit(trans_data)\n",
    "labels_pred=km.labels_\n",
    "######## Params for plotting\n",
    "cmapx=plt.get_cmap('rainbow')\n",
    "x=np.linspace(0,1,np.max(labels_pred)+1)\n",
    "col=[cmapx(xx) for xx in x ]\n",
    "markers = {0:'*',1: '.', 2:',',3: 'o',4: 'v',5: '^',6: '<',7: '>',8: 3 ,9:'d',10: '+',11:'x',12:'D',13: '|',14: '_',15:4,16:0,17:1,18:2,19:6,20:7}\n",
    "########\n",
    "\n",
    "for c in np.unique(colors):\n",
    "        indc=[i for i,x in enumerate(colors) if x==c]\n",
    "        #print indc\n",
    "        plt.scatter(trans_data[indc,0], trans_data[indc,1],c=np.array(col)[list(np.array(labels_pred)[indc])] ,marker=markers[c%len(markers)],s=500)\n",
    "labels = colors\n",
    "for label,c, x, y in zip(labels,labels_pred, trans_data[:, 0], trans_data[:, 1]):\n",
    "            plt.annotate(label,xy=(x, y), xytext=(0, 0), textcoords='offset points')\n",
    "  "
   ]
  }
 ],
 "metadata": {
  "anaconda-cloud": {},
  "kernelspec": {
   "display_name": "Python [conda root]",
   "language": "python",
   "name": "conda-root-py"
  },
  "language_info": {
   "codemirror_mode": {
    "name": "ipython",
    "version": 2
   },
   "file_extension": ".py",
   "mimetype": "text/x-python",
   "name": "python",
   "nbconvert_exporter": "python",
   "pygments_lexer": "ipython2",
   "version": "2.7.11"
  }
 },
 "nbformat": 4,
 "nbformat_minor": 0
}
