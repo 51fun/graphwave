{
 "cells": [
  {
   "cell_type": "markdown",
   "metadata": {},
   "source": [
    "<center> <h1>Using GraphWave </h1> </center>\n",
    "\n",
    "&nbsp;\n",
    "\n",
    "&nbsp;\n",
    "\n",
    "The goal of the  following notebook is to show how the GraphWave algorithm can be used. \n",
    "\n",
    "GraphWave was implemented in Python 2.7 and requires to load the following Python packages:\n",
    "\n",
    "+ __pygsp__ (Graph signal Processing package from EPFL, to compute spectral graph wavelets.)\n",
    "+ __networkx__ (for handling network objects: in particular, visualization, etc.)\n",
    "+ traditional libraries for data analytics: __seaborn__ for plotting, __pandas__ for dataframes\n"
   ]
  },
  {
   "cell_type": "code",
   "execution_count": 1,
   "metadata": {
    "collapsed": false,
    "scrolled": true
   },
   "outputs": [],
   "source": [
    "%matplotlib inline\n",
    "import networkx as nx \n",
    "import numpy as np\n",
    "import pandas as pd\n",
    "import seaborn as sb\n",
    "from sklearn.decomposition import PCA\n",
    "from sklearn.preprocessing import StandardScaler\n",
    "from sklearn.cluster import KMeans\n",
    "\n",
    "import matplotlib.pyplot as plt\n",
    "from graphwave.shapes import build_graph\n",
    "from graphwave.graphwave import *\n",
    "\n",
    "\n",
    "np.random.seed(123)\n"
   ]
  },
  {
   "cell_type": "markdown",
   "metadata": {
    "collapsed": true
   },
   "source": [
    "## I. Creating a graph"
   ]
  },
  {
   "cell_type": "code",
   "execution_count": 2,
   "metadata": {
    "collapsed": true
   },
   "outputs": [],
   "source": [
    "%matplotlib inline\n",
    "res=np.array([[100, 1.007087],[ 0.699462, 3.042903],\n",
    "[500, 8.482315],\n",
    "[1000, 19.191575],\n",
    "[5000, 283.553013],\n",
    "[10000, 2942.717718],\n",
    "[15000, 8623.728076]])"
   ]
  },
  {
   "cell_type": "code",
   "execution_count": 22,
   "metadata": {
    "collapsed": false
   },
   "outputs": [
    {
     "data": {
      "image/png": "[encoded data removed]",
      "text/plain": [
       "<matplotlib.figure.Figure at 0x11e2c5150>"
      ]
     },
     "metadata": {},
     "output_type": "display_data"
    }
   ],
   "source": [
    "fig, ax = plt.subplots()\n",
    "sb.set_style('white')\n",
    "plt.plot(res[:,0], res[:,1])\n",
    "plt.xlabel('Number of nodes',fontsize = 14)\n",
    "plt.ylabel('Running time',fontsize = 14)\n",
    "for tick in ax.xaxis.get_major_ticks():\n",
    "    tick.label.set_fontsize(14) \n",
    "for tick in ax.yaxis.get_major_ticks():\n",
    "    tick.label.set_fontsize(14) \n",
    "ax.tick_params(direction='in', length=4, width=2)\n",
    "plt.savefig(\"computational_complexity.pdf\", bbox_inches='tight')\n",
    "\n",
    "                # specify integer or one of p"
   ]
  },
  {
   "cell_type": "code",
   "execution_count": 21,
   "metadata": {
    "collapsed": false
   },
   "outputs": [
    {
     "name": "stdout",
     "output_type": "stream",
     "text": [
      "Help on function savefig in module matplotlib.pyplot:\n",
      "\n",
      "savefig(*args, **kwargs)\n",
      "    Save the current figure.\n",
      "    \n",
      "    Call signature::\n",
      "    \n",
      "      savefig(fname, dpi=None, facecolor='w', edgecolor='w',\n",
      "              orientation='portrait', papertype=None, format=None,\n",
      "              transparent=False, bbox_inches=None, pad_inches=0.1,\n",
      "              frameon=None)\n",
      "    \n",
      "    The output formats available depend on the backend being used.\n",
      "    \n",
      "    Arguments:\n",
      "    \n",
      "      *fname*:\n",
      "        A string containing a path to a filename, or a Python\n",
      "        file-like object, or possibly some backend-dependent object\n",
      "        such as :class:`~matplotlib.backends.backend_pdf.PdfPages`.\n",
      "    \n",
      "        If *format* is *None* and *fname* is a string, the output\n",
      "        format is deduced from the extension of the filename. If\n",
      "        the filename has no extension, the value of the rc parameter\n",
      "        ``savefig.format`` is used.\n",
      "    \n",
      "        If *fname* is not a string, remember to specify *format* to\n",
      "        ensure that the correct backend is used.\n",
      "    \n",
      "    Keyword arguments:\n",
      "    \n",
      "      *dpi*: [ *None* | ``scalar > 0`` | 'figure']\n",
      "        The resolution in dots per inch.  If *None* it will default to\n",
      "        the value ``savefig.dpi`` in the matplotlibrc file. If 'figure'\n",
      "        it will set the dpi to be the value of the figure.\n",
      "    \n",
      "      *facecolor*, *edgecolor*:\n",
      "        the colors of the figure rectangle\n",
      "    \n",
      "      *orientation*: [ 'landscape' | 'portrait' ]\n",
      "        not supported on all backends; currently only on postscript output\n",
      "    \n",
      "      *papertype*:\n",
      "        One of 'letter', 'legal', 'executive', 'ledger', 'a0' through\n",
      "        'a10', 'b0' through 'b10'. Only supported for postscript\n",
      "        output.\n",
      "    \n",
      "      *format*:\n",
      "        One of the file extensions supported by the active\n",
      "        backend.  Most backends support png, pdf, ps, eps and svg.\n",
      "    \n",
      "      *transparent*:\n",
      "        If *True*, the axes patches will all be transparent; the\n",
      "        figure patch will also be transparent unless facecolor\n",
      "        and/or edgecolor are specified via kwargs.\n",
      "        This is useful, for example, for displaying\n",
      "        a plot on top of a colored background on a web page.  The\n",
      "        transparency of these patches will be restored to their\n",
      "        original values upon exit of this function.\n",
      "    \n",
      "      *frameon*:\n",
      "        If *True*, the figure patch will be colored, if *False*, the\n",
      "        figure background will be transparent.  If not provided, the\n",
      "        rcParam 'savefig.frameon' will be used.\n",
      "    \n",
      "      *bbox_inches*:\n",
      "        Bbox in inches. Only the given portion of the figure is\n",
      "        saved. If 'tight', try to figure out the tight bbox of\n",
      "        the figure.\n",
      "    \n",
      "      *pad_inches*:\n",
      "        Amount of padding around the figure when bbox_inches is\n",
      "        'tight'.\n",
      "    \n",
      "      *bbox_extra_artists*:\n",
      "        A list of extra artists that will be considered when the\n",
      "        tight bbox is calculated.\n",
      "\n"
     ]
    }
   ],
   "source": [
    "help(plt.savefig)"
   ]
  },
  {
   "cell_type": "code",
   "execution_count": 13,
   "metadata": {
    "collapsed": false
   },
   "outputs": [
    {
     "name": "stdout",
     "output_type": "stream",
     "text": [
      "14.4434549809\n"
     ]
    }
   ],
   "source": [
    "# -*- coding: utf-8 -*-\n",
    "\"\"\"\n",
    "Created on Wed May 23 10:32:21 2018\n",
    "\n",
    "@author: cdonnat\n",
    "\"\"\"\n",
    "\n",
    "import networkx as nx\n",
    "import numpy as np\n",
    "import scipy as sc\n",
    "from sklearn.decomposition import PCA\n",
    "from sklearn.preprocessing import StandardScaler\n",
    "from sklearn.cluster import KMeans\n",
    "\n",
    "import matplotlib.pyplot as plt\n",
    "from graphwave.shapes import build_graph\n",
    "#from graphwave.graphwave import *\n",
    "import time\n",
    "np.random.seed(123)\n",
    "import copy\n",
    "import math\n",
    "\n",
    "def compute_cheb_coeff(scale, order):\n",
    "    coeffs = [(-scale)**k * 1.0 / math.factorial(k) for k in range(order + 1)]\n",
    "    return coeffs\n",
    "\n",
    "def compute_cheb_coeff_basis(scale, order):\n",
    "    xx = np.array([np.cos((2*i-1)*1.0/(2*order) * math.pi) for i in range(1,order+1)])\n",
    "    basis = [np.ones((1,order)),np.array(xx)]\n",
    "    for k in range(order + 1-2):\n",
    "        basis.append(2* np.multiply(xx, basis[-1]) - basis[-2])\n",
    "    basis = np.vstack(basis)\n",
    "    f = np.exp(-scale*(xx+1))\n",
    "    products = np.einsum(\"j,ij->ij\",f,basis)\n",
    "    coeffs = 2.0/(order)*products.sum(1)\n",
    "    coeffs[0] = coeffs[0]/2\n",
    "    return list(coeffs)\n",
    "\n",
    "\n",
    "\n",
    "\n",
    "def heat_diffusion_ind(graph, taus=[1, 10, 25, 50], diff_type='heat',order = 10, proc = 'approximate'):\n",
    "    '''\n",
    "    This method computes the heat diffusion waves for each of the nodes\n",
    "    INPUT:\n",
    "    -----------------------\n",
    "    graph    :    Graph, can be of type networkx or pygsp\n",
    "    taus     :    list of 4 scales for the wavelets. The higher the tau,\n",
    "                  the better the spread\n",
    "    order    :    order of the polynomial approximation\n",
    "\n",
    "    OUTPUT:\n",
    "    -----------------------\n",
    "    heat     :     tensor of length  len(tau) x n_nodes x n_nodes\n",
    "                   where heat[tau,:,u] is the wavelet for node u\n",
    "                   at scale tau\n",
    "    '''\n",
    "    # Compute Laplacian\n",
    "\n",
    "    a = nx.adjacency_matrix(graph)\n",
    "    n_nodes, _ = a.shape\n",
    "    thres = np.vectorize(lambda x : x if x > 1e-4*1.0/n_nodes else 0)\n",
    "    lap = laplacian(a)\n",
    "    n_filters = len(taus)\n",
    "    if proc == 'exact':\n",
    "        lamb, U = np.linalg.eigh(lap.todense())\n",
    "        heat = {}\n",
    "        for i in range(n_filters):\n",
    "             heat[i] = U.dot(np.diagflat(np.exp(-taus[i]*lamb).flatten())).dot(U.T)\n",
    "    else:\n",
    "        heat = {i: sc.sparse.csc_matrix((n_nodes, n_nodes)) for i in range(n_filters) }\n",
    "        #monome = {0: sc.sparse.eye(n_nodes)}\n",
    "        #for k in range(1, order + 1):\n",
    "        #     monome[k] = lap.dot(monome[k-1])\n",
    "        monome = {0: sc.sparse.eye(n_nodes), 1: lap - sc.sparse.eye(n_nodes)}\n",
    "        for k in range(2, order + 1):\n",
    "             monome[k] = 2 * (lap - sc.sparse.eye(n_nodes)).dot(monome[k-1]) - monome[k - 2]\n",
    "        for i in range(n_filters):\n",
    "            coeffs = compute_cheb_coeff_basis(taus[i], order)\n",
    "            #print(coeffs)\n",
    "            heat[i] = sc.sum([  coeffs[k] * monome[k]  for k in range(0, order + 1)])\n",
    "            index = heat[i].nonzero\n",
    "            #temp = heat[i].A#\n",
    "            temp = thres(heat[i].A)\n",
    "            heat[i] = sc.sparse.csc_matrix(temp)\n",
    "            #### trim the data:\n",
    "\n",
    "             #for k in range(0, order + 1):\n",
    "                 #heat[i] +=  coeffs[k] * monome[k]\n",
    "    return heat, taus\n",
    "\n",
    "\n",
    "\n",
    "import copy\n",
    "\n",
    "def charac_function(time_points, temp):\n",
    "#time_points= np.linspace(0,100,101)\n",
    "#if True\n",
    "    \n",
    "\n",
    "    complexify = np.vectorize( lambda x: np.exp(-np.complex(0,x)))\n",
    "    n_nodes = temp.shape[1]\n",
    "    sig = np.zeros((len(time_points), n_nodes), dtype='complex128')\n",
    "    nnz_vec = np.array([1.0/n_nodes*(temp[:,i].nnz) for i in range(n_nodes)])\n",
    "    temp2 = copy.deepcopy(temp)\n",
    "    for it_t, t in enumerate(time_points):\n",
    "        temp2.data = complexify(t*temp.data)\n",
    "        sig[it_t,:] = 1.0/n_nodes *(temp2.sum(0)) + nnz_vec\n",
    "    \n",
    "    final_sig = np.zeros((2*sig.shape[0],sig.shape[1]))\n",
    "    final_sig[::2,:] = np.real(sig)\n",
    "    final_sig[1::2,:]= np.imag(sig)\n",
    "    return final_sig\n",
    "\n",
    "def charac_function_multiscale(heat, time_points):\n",
    "    final_sig = []\n",
    "    for i in heat.keys():\n",
    "        final_sig.append(charac_function(time_points, heat[i]))\n",
    "    return np.vstack(final_sig).T\n",
    "\n",
    "\n",
    "def laplacian(a):\n",
    "        n_nodes, _ = a.shape\n",
    "        posinv = np.vectorize(lambda x: 1.0/np.sqrt(x) if x>1e-10 else 1)\n",
    "        d = sc.sparse.diags(np.array(posinv(a.sum(0))).reshape([-1,]),0)\n",
    "        lap = sc.sparse.eye(n_nodes) - d.dot(a.dot(d))\n",
    "        return lap\n",
    "\n",
    "def graphwave2(graph, taus, time_pnts, type_graph=\"nx\",\n",
    "              verbose=False, **kwargs):\n",
    "    ''' wrapper function for computing the structural signatures using GraphWave\n",
    "    INPUT\n",
    "    --------------------------------------------------------------------------------------\n",
    "    graph      :   nx or pygsp Graph\n",
    "    time_pt    :   time points at which to evaluate the characteristic function\n",
    "    taus       :   list of scales that we are interested in. Alternatively,\n",
    "                   'automatic' for the automatic version of GraphWave\n",
    "    type_graph :   type of the graph used (either one of 'nx' or 'pygsp')\n",
    "    verbose    :   the algorithm prints some of the hidden parameters\n",
    "                   as it goes along\n",
    "    OUTPUT\n",
    "    --------------------------------------------------------------------------------------\n",
    "    chi        :  embedding of the function in Euclidean space\n",
    "    heat_print :  returns the actual embeddings of the nodes\n",
    "    taus       :  returns the list of scales used.\n",
    "    '''\n",
    "    if taus == 'auto':\n",
    "        a = nx.adjacency_matrix(G)\n",
    "        lap = laplacian(a)\n",
    "        try:\n",
    "            l1 = np.sort(sc.sparse.linalg.eigsh(lap, 2,  which='SM',return_eigenvectors=False))[1]\n",
    "        except:\n",
    "            l1 = np.sort(sc.sparse.linalg.eigsh(lap, 5,  which='SM',return_eigenvectors=False))[1]\n",
    "        smax = -np.log(0.8) * np.sqrt( 0.5 / l1)\n",
    "        smin = -np.log(0.95) * np.sqrt( 0.5 / l1)\n",
    "        taus = np.linspace(smin, smax, 2)\n",
    "    heat_print, _ = heat_diffusion_ind(graph, list(taus), diff_type='heat', order=50, proc = 'approximate')\n",
    "    chi = charac_function_multiscale(heat_print, time_pnts)\n",
    "\n",
    "    return chi, heat_print, taus\n",
    "\n",
    "time_alg=[]\n",
    "if True:\n",
    "    \n",
    "    nbTrials = 20\n",
    "\n",
    "\n",
    "    ################################### EXAMPLE TO BUILD A SIMPLE REGULAR STRUCTURE ##########\n",
    "    ## REGULAR STRUCTURE: the most simple structure:  basis + n small patterns of a single type\n",
    "\n",
    "    ### 1. Choose the basis (cycle, torus or chain)\n",
    "    basis_type = \"cycle\"\n",
    "\n",
    "    ### 2. Add the shapes\n",
    "    n_shapes = 100 ## numbers of shapes to add\n",
    "    width_basis = 5 * n_shapes\n",
    "    #shape=[\"fan\",6] ## shapes and their associated required parameters  (nb of edges for the star, etc)\n",
    "    #shape=[\"star\",6]\n",
    "    list_shapes = [[\"house\"]] * n_shapes\n",
    "\n",
    "    ### 3. Give a name to the graph\n",
    "    identifier = 'AA'  ## just a name to distinguish between different trials\n",
    "    name_graph = 'houses'+ identifier\n",
    "\n",
    "\n",
    "    ### 4. Pass all these parameters to the Graph Structure\n",
    "    add_edges = 0\n",
    "    G, communities, _ , role_id = build_graph.build_structure(width_basis, basis_type, list_shapes, start=0,\n",
    "                                           add_random_edges=add_edges, plot=False,\n",
    "                                           savefig=False)\n",
    "    tic =time.time()\n",
    "    time_pts = list(np.arange(0,20,1)) \n",
    "    chi, heat, taus = graphwave2(G, 'auto', time_pts)\n",
    "    toc =time.time()\n",
    "    time_alg+=[[G.number_of_nodes(),toc-tic]]\n",
    "    np.savetxt('log_scalable.txt', time_alg, fmt=\"%i, %f\")\n",
    "    print toc-tic\n",
    "\n",
    "\n",
    "\n",
    "\n"
   ]
  },
  {
   "cell_type": "code",
   "execution_count": 25,
   "metadata": {
    "collapsed": false
   },
   "outputs": [],
   "source": [
    "# 1- Start by defining our favorite regular structure\n",
    "\n",
    "filename_graph_indic=\"/Users/cdonnat/Downloads/Wiki-Vote.txt\"\n",
    "edge_list=[]\n",
    "with open(filename_graph_indic) as f:\n",
    "    i = 0\n",
    "    for line in f:\n",
    "        line=line.strip(\"\\n\")\n",
    "        line=line.strip(\"\\r\")\n",
    "        if i > 5:\n",
    "            line = line.split('\\t')\n",
    "            edge_list += [[int(line[0]),int(line[1])]]\n",
    "        i += 1"
   ]
  },
  {
   "cell_type": "code",
   "execution_count": 26,
   "metadata": {
    "collapsed": false
   },
   "outputs": [],
   "source": [
    "graph = nx.from_edgelist(edge_list)"
   ]
  },
  {
   "cell_type": "code",
   "execution_count": 1,
   "metadata": {
    "collapsed": false
   },
   "outputs": [],
   "source": [
    "time =[(90, 2.272922992706299),\n",
    "(315, 26.121266841888428),\n",
    "(540, 91.55953407287598),\n",
    "(765, 194.64284420013428),\n",
    "(990, 292.62941098213196),\n",
    "(1215, 473.310791015625),\n",
    "(1440, 580.7945530414581),\n",
    "(1665, 831.6506588459015),\n",
    "(1890, 1013.45339179039),\n",
    "(2115, 1132.4784269332886),\n",
    "(2340, 1394.946408033371),\n",
    "(2565, 1679.3355889320374),\n",
    "(2790, 1979.6715250015259),\n",
    "(3015, 2308.3219091892242),\n",
    "(3240, 2671.358288049698),\n",
    "(3465, 3048.7422091960907),\n",
    "(3690, 3478.4642791748047),\n",
    "(3915, 3893.762937068939)] "
   ]
  },
  {
   "cell_type": "code",
   "execution_count": 9,
   "metadata": {
    "collapsed": false
   },
   "outputs": [
    {
     "data": {
      "text/plain": [
       "64"
      ]
     },
     "execution_count": 9,
     "metadata": {},
     "output_type": "execute_result"
    }
   ],
   "source": [
    "3893/60"
   ]
  },
  {
   "cell_type": "code",
   "execution_count": 7,
   "metadata": {
    "collapsed": false
   },
   "outputs": [
    {
     "data": {
      "text/plain": [
       "<matplotlib.collections.PathCollection at 0x111b591d0>"
      ]
     },
     "execution_count": 7,
     "metadata": {},
     "output_type": "execute_result"
    },
    {
     "data": {
      "image/png": "[encoded data removed]",
      "text/plain": [
       "<matplotlib.figure.Figure at 0x10ca7fb50>"
      ]
     },
     "metadata": {},
     "output_type": "display_data"
    }
   ],
   "source": [
    "%matplotlib inline\n",
    "import numpy as np\n",
    "time =np.array(time)\n",
    "import matplotlib.pyplot as plt\n",
    "plt.scatter(time[:,0], time[:,1])"
   ]
  },
  {
   "cell_type": "code",
   "execution_count": 6,
   "metadata": {
    "collapsed": false
   },
   "outputs": [
    {
     "data": {
      "text/plain": [
       "24"
      ]
     },
     "execution_count": 6,
     "metadata": {},
     "output_type": "execute_result"
    }
   ],
   "source": [
    "nx.number_connected_components(graph)"
   ]
  },
  {
   "cell_type": "code",
   "execution_count": 7,
   "metadata": {
    "collapsed": false
   },
   "outputs": [
    {
     "name": "stdout",
     "output_type": "stream",
     "text": [
      "(0, 7066)\n",
      "(1, 2)\n",
      "(2, 2)\n",
      "(3, 2)\n",
      "(4, 2)\n",
      "(5, 2)\n",
      "(6, 2)\n",
      "(7, 2)\n",
      "(8, 2)\n",
      "(9, 2)\n",
      "(10, 2)\n",
      "(11, 2)\n",
      "(12, 2)\n",
      "(13, 2)\n",
      "(14, 2)\n",
      "(15, 3)\n",
      "(16, 2)\n",
      "(17, 2)\n",
      "(18, 3)\n",
      "(19, 2)\n",
      "(20, 2)\n",
      "(21, 2)\n",
      "(22, 2)\n",
      "(23, 3)\n"
     ]
    }
   ],
   "source": [
    "conn_comp={}\n",
    "it_g = 0\n",
    "for g in nx.connected_component_subgraphs(graph):\n",
    "    conn_comp[it_g] = g\n",
    "    print(it_g, g.number_of_nodes())\n",
    "    it_g += 1"
   ]
  },
  {
   "cell_type": "code",
   "execution_count": 8,
   "metadata": {
    "collapsed": false
   },
   "outputs": [],
   "source": [
    "taus = list(np.arange(0.5, 3.0, 0.2))+list(range(3, 5))\n",
    "# Compute the optimal embedding\n",
    "pygsp_graph = pygsp.graphs.Graph(nx.adjacency_matrix(conn_comp[0]),\n",
    "                                 lap_type='normalized')"
   ]
  },
  {
   "cell_type": "code",
   "execution_count": 9,
   "metadata": {
    "collapsed": false
   },
   "outputs": [
    {
     "data": {
      "text/plain": [
       "<7066x7066 sparse matrix of type '<type 'numpy.float64'>'\n",
       "\twith 208534 stored elements in Compressed Sparse Row format>"
      ]
     },
     "execution_count": 9,
     "metadata": {},
     "output_type": "execute_result"
    }
   ],
   "source": [
    "pygsp_graph.L"
   ]
  },
  {
   "cell_type": "code",
   "execution_count": 10,
   "metadata": {
    "collapsed": false
   },
   "outputs": [
    {
     "data": {
      "text/plain": [
       "True"
      ]
     },
     "execution_count": 10,
     "metadata": {},
     "output_type": "execute_result"
    }
   ],
   "source": [
    "pygsp_graph.connected\n"
   ]
  },
  {
   "cell_type": "code",
   "execution_count": 21,
   "metadata": {
    "collapsed": false
   },
   "outputs": [],
   "source": [
    "#pygsp_graph.compute_fourier_basis(recompute=True)\n",
    "# safety check to ensure that the graph is indeed connected\n",
    "l1 = sc.sparse.linalg.eigsh(pygsp_graph.L, k=2, which='SM')[0][1]\n",
    "smax = -np.log(0.75) * np.sqrt(2.0 / l1)\n",
    "smin = -np.log(0.90) * np.sqrt(2.0/ l1)\n",
    "taus = list(np.linspace(smin,smax,10))"
   ]
  },
  {
   "cell_type": "code",
   "execution_count": null,
   "metadata": {
    "collapsed": false
   },
   "outputs": [],
   "source": [
    "import time\n",
    "tic=time.time()\n",
    "diff_type = 'heat'\n",
    "n_nodes = pygsp_graph.N\n",
    "if True:\n",
    "    n_filters = len(taus)\n",
    "\n",
    "    if diff_type == 'mexican':\n",
    "        n_filters = 6\n",
    "        Hk = pygsp.filters.MexicanHat(pygsp_graph, n_filters)\n",
    "    elif diff_type == 'wave':\n",
    "        Hk = pygsp.filters.Wave(pygsp_graph, taus, normalize=True)\n",
    "    else:\n",
    "        Hk = pygsp.filters.Heat(pygsp_graph, taus, normalize=False)\n",
    "\n",
    "heat = {tau: sc.sparse.csc_matrix(( n_nodes, n_nodes)) for tau in taus}\n",
    "Sf_vec = Hk.analysis(np.eye(n_nodes), cheb_order = 10)\n",
    "toc =time.time()\n",
    "print(toc-tic)"
   ]
  },
  {
   "cell_type": "code",
   "execution_count": 14,
   "metadata": {
    "collapsed": false
   },
   "outputs": [],
   "source": [
    "#### Then we need to convert them into an adequate format"
   ]
  },
  {
   "cell_type": "code",
   "execution_count": 13,
   "metadata": {
    "collapsed": false
   },
   "outputs": [
    {
     "name": "stdout",
     "output_type": "stream",
     "text": [
      "Help on Heat in module pygsp.filters.heat object:\n",
      "\n",
      "class Heat(pygsp.filters.filter.Filter)\n",
      " |  Heat Filterbank\n",
      " |  \n",
      " |  Inherits its methods from Filters\n",
      " |  \n",
      " |  Parameters\n",
      " |  ----------\n",
      " |  G : Graph\n",
      " |  tau : int or list of ints\n",
      " |      Scaling parameter. (default = 10)\n",
      " |  normalize : bool\n",
      " |      Normalize the kernel (works only if the eigenvalues are\n",
      " |      present in the graph). (default = 0)\n",
      " |  \n",
      " |  Returns\n",
      " |  -------\n",
      " |  out : Heat\n",
      " |  \n",
      " |  Examples\n",
      " |  --------\n",
      " |  >>> from pygsp import graphs, filters\n",
      " |  >>> G = graphs.Logo()\n",
      " |  >>> F = filters.Heat(G)\n",
      " |  \n",
      " |  Method resolution order:\n",
      " |      Heat\n",
      " |      pygsp.filters.filter.Filter\n",
      " |      __builtin__.object\n",
      " |  \n",
      " |  Methods defined here:\n",
      " |  \n",
      " |  __init__(self, G, tau=10, normalize=False, **kwargs)\n",
      " |  \n",
      " |  ----------------------------------------------------------------------\n",
      " |  Methods inherited from pygsp.filters.filter.Filter:\n",
      " |  \n",
      " |  analysis(self, s, method=None, cheb_order=30, lanczos_order=30, **kwargs)\n",
      " |      Operator to analyse a filterbank\n",
      " |      \n",
      " |      Parameters\n",
      " |      ----------\n",
      " |      s : ndarray\n",
      " |          graph signals to analyse\n",
      " |      method : string\n",
      " |          wether using an exact method, cheby approx or lanczos\n",
      " |      cheb_order : int\n",
      " |          Order for chebyshev\n",
      " |      \n",
      " |      Returns\n",
      " |      -------\n",
      " |      c : ndarray\n",
      " |          Transform coefficients\n",
      " |      \n",
      " |      Examples\n",
      " |      --------\n",
      " |      >>> import numpy as np\n",
      " |      >>> from pygsp import graphs, filters\n",
      " |      >>> G = graphs.Logo()\n",
      " |      >>> MH = filters.MexicanHat(G)\n",
      " |      >>> x = np.arange(G.N**2).reshape(G.N, G.N)\n",
      " |      >>> co = MH.analysis(x)\n",
      " |      \n",
      " |      :cite:`hammond2011wavelets`\n",
      " |  \n",
      " |  approx(m, N, **kwargs)\n",
      " |  \n",
      " |  can_dual(self)\n",
      " |      Creates a dual graph form a given graph\n",
      " |  \n",
      " |  evaluate = inner(f, *args, **kwargs)\n",
      " |  \n",
      " |  filterbank_bounds(self, N=999, bounds=None)\n",
      " |      Compute approximate frame bounds for a filterbank.\n",
      " |      \n",
      " |      Parameters\n",
      " |      ----------\n",
      " |      bounds : interval to compute the bound.\n",
      " |          Given in an ndarray: np.array([xmin, xnmax]).\n",
      " |          By default, bounds is None and filtering is bounded\n",
      " |          by the eigenvalues of G.\n",
      " |      N : Number of point for the line search\n",
      " |          Default is 999\n",
      " |      \n",
      " |      Returns\n",
      " |      -------\n",
      " |      lower : Filterbank lower bound\n",
      " |      upper : Filterbank upper bound\n",
      " |  \n",
      " |  filterbank_matrix(self)\n",
      " |      Create the matrix of the filterbank frame.\n",
      " |      \n",
      " |      This function creates the matrix associated to the filterbank g.\n",
      " |      The size of the matrix is MN x N, where M is the number of filters.\n",
      " |      \n",
      " |      Returns\n",
      " |      -------\n",
      " |      F : Frame\n",
      " |  \n",
      " |  inverse(self, c, **kwargs)\n",
      " |  \n",
      " |  plot(self, **kwargs)\n",
      " |      Plot the filter.\n",
      " |      \n",
      " |      See plotting doc.\n",
      " |  \n",
      " |  synthesis(self, c, order=30, method=None, **kwargs)\n",
      " |      Synthesis operator of a filterbank\n",
      " |      \n",
      " |      Parameters\n",
      " |      ----------\n",
      " |      G : Graph structure.\n",
      " |      c : Transform coefficients\n",
      " |      method : Select the method ot be used for the computation.\n",
      " |          - 'exact' : Exact method using the graph Fourier matrix\n",
      " |          - 'cheby' : Chebyshev polynomial approximation\n",
      " |          - 'lanczos' : Lanczos approximation\n",
      " |      \n",
      " |          Default : if the Fourier matrix is present: 'exact' otherwise\n",
      " |          'cheby'\n",
      " |      order : Degree of the Chebyshev approximation\n",
      " |          Default is 30\n",
      " |      \n",
      " |      Returns\n",
      " |      -------\n",
      " |      signal : sythesis signal\n",
      " |      \n",
      " |      Examples\n",
      " |      --------\n",
      " |      \n",
      " |      Reference\n",
      " |      ----------\n",
      " |      See :cite:`hammond2011wavelets` for more details.\n",
      " |  \n",
      " |  tighten()\n",
      " |  \n",
      " |  wlog_scales(self, lmin, lmax, Nscales, t1=1, t2=2)\n",
      " |      Compute logarithm scales for wavelets\n",
      " |      \n",
      " |      Parameters\n",
      " |      ----------\n",
      " |      lmin : int\n",
      " |          Minimum non-zero eigenvalue\n",
      " |      lmax : int\n",
      " |          Maximum eigenvalue\n",
      " |      Nscales : int\n",
      " |          Number of scales\n",
      " |      \n",
      " |      Returns\n",
      " |      -------\n",
      " |      s : ndarray\n",
      " |          Scale\n",
      " |  \n",
      " |  ----------------------------------------------------------------------\n",
      " |  Data descriptors inherited from pygsp.filters.filter.Filter:\n",
      " |  \n",
      " |  __dict__\n",
      " |      dictionary for instance variables (if defined)\n",
      " |  \n",
      " |  __weakref__\n",
      " |      list of weak references to the object (if defined)\n",
      "\n"
     ]
    }
   ],
   "source": [
    "help(Hk)"
   ]
  },
  {
   "cell_type": "code",
   "execution_count": 15,
   "metadata": {
    "collapsed": true
   },
   "outputs": [],
   "source": [
    "for i in range(n_filters):\n",
    "        heat[taus[i]]= sc.sparse.csc_matrix(Sf_vec[i * n_nodes: (i + 1) * n_nodes, :] )    # stores in tensor the results"
   ]
  },
  {
   "cell_type": "code",
   "execution_count": 20,
   "metadata": {
    "collapsed": false
   },
   "outputs": [
    {
     "data": {
      "text/plain": [
       "matrix([[  7.83515091e-01],\n",
       "        [  7.34737288e-05],\n",
       "        [  5.90369948e-05],\n",
       "        ..., \n",
       "        [  1.19696857e-07],\n",
       "        [  7.96622698e-09],\n",
       "        [  2.41718737e-08]])"
      ]
     },
     "execution_count": 20,
     "metadata": {},
     "output_type": "execute_result"
    }
   ],
   "source": [
    "np.sort(heat[taus[9]][:,0].todense())"
   ]
  },
  {
   "cell_type": "code",
   "execution_count": 17,
   "metadata": {
    "collapsed": false
   },
   "outputs": [
    {
     "data": {
      "text/plain": [
       "49928356"
      ]
     },
     "execution_count": 17,
     "metadata": {},
     "output_type": "execute_result"
    }
   ],
   "source": [
    "7066 * 7066"
   ]
  },
  {
   "cell_type": "markdown",
   "metadata": {},
   "source": [
    "(Note: best visualization of the graphs are obtained using Gephi, or some other specialized graph visualization software)"
   ]
  },
  {
   "cell_type": "markdown",
   "metadata": {},
   "source": [
    "## II. Running GraphWave\n",
    "\n",
    "\n",
    "We propose here a simple demonstration of GraphWave using both the automatic version (part a) and the manual version. This shows how to use GraphWave in a parameter-free version, or giving the analyst the possibility to select an adequate scale value.\n",
    "\n",
    "For each of these approaches, we compute the signature by calling GraphWave. We then compute its PCA projection to visualize the embeddings. Note that in this very simple examples, GraphWave recovers structura equivalence, as shown by the overlapping embeddings on the first principal components.\n",
    "\n",
    "#### a. Multiscale GraphWave: Automatic selection of the range of scales"
   ]
  },
  {
   "cell_type": "code",
   "execution_count": null,
   "metadata": {
    "collapsed": false
   },
   "outputs": [],
   "source": [
    "chi, heat_print, taus = graphwave(graph, taus='automatic_large_matrix', verbose=False)"
   ]
  },
  {
   "cell_type": "markdown",
   "metadata": {},
   "source": [
    "We now visualize the resulting embeddings by computing their PCA projections. We also run KMeans to assess how well the signatures that we have here generated enable the recovery of structural roles."
   ]
  },
  {
   "cell_type": "code",
   "execution_count": null,
   "metadata": {
    "collapsed": false
   },
   "outputs": [],
   "source": [
    "nb_clust = len(np.unique(role_id))\n",
    "pca = PCA(n_components=5)\n",
    "trans_data = pca.fit_transform(StandardScaler().fit_transform(chi))\n",
    "km = KMeans(n_clusters=nb_clust)\n",
    "km.fit(trans_data)\n",
    "labels_pred=km.labels_\n",
    "\n",
    "######## Params for plotting\n",
    "cmapx=plt.get_cmap('rainbow')\n",
    "x=np.linspace(0,1,nb_clust+1)\n",
    "col=[cmapx(xx) for xx in x ]\n",
    "markers = {0:'*',1: '.', 2:',',3: 'o',4: 'v',5: '^',6: '<',7: '>',8: 3 ,9:'d',10: '+',11:'x',12:'D',13: '|',14: '_',15:4,16:0,17:1,18:2,19:6,20:7}\n",
    "\n",
    "for c in np.unique(role_id):\n",
    "    indc = [i for i,x in enumerate(role_id) if x==c]\n",
    "    plt.scatter(trans_data[indc,0], trans_data[indc,1],\n",
    "                c=np.array(col)[list(np.array(labels_pred)[indc])],\n",
    "                marker=markers[c%len(markers)], s=300)\n",
    "\n",
    "labels = role_id\n",
    "for label,c, x, y in zip(labels,labels_pred, trans_data[:, 0], trans_data[:, 1]):\n",
    "            plt.annotate(label,xy=(x, y), xytext=(0, 0), textcoords='offset points')\n",
    "            "
   ]
  },
  {
   "cell_type": "markdown",
   "metadata": {},
   "source": [
    "#### Uniscale GraphWave: Hand-selected value for tau"
   ]
  },
  {
   "cell_type": "code",
   "execution_count": null,
   "metadata": {
    "collapsed": false
   },
   "outputs": [],
   "source": []
  },
  {
   "cell_type": "code",
   "execution_count": null,
   "metadata": {
    "collapsed": false
   },
   "outputs": [],
   "source": [
    "### Select a scale of interest (here we select a particular range of scale. See associated paper for \n",
    "### guidelines on how to select the appropriate scale.)\n",
    "\n",
    "### Compute the heat wavelet\n",
    "from graphwave.graphwave import *\n",
    "\n",
    "time_pts = list(np.arange(0,50,0.5))\n",
    "chi,heat_print, taus=graphwave(G, taus = [0.5], time_pts=time_pts, verbose=False)\n",
    "print(chi.shape, len(time_pts))"
   ]
  },
  {
   "cell_type": "markdown",
   "metadata": {},
   "source": [
    "Note that in the EPFL implementation, by construction, the wavelet scales are all divided by the maximum eigenvalue $\\lambda_N$."
   ]
  },
  {
   "cell_type": "code",
   "execution_count": null,
   "metadata": {
    "collapsed": false
   },
   "outputs": [],
   "source": [
    "nb_clust=len(np.unique(role_id))\n",
    "pca=PCA(n_components=5)\n",
    "trans_data=pca.fit_transform(StandardScaler().fit_transform(chi))\n",
    "km=KMeans(n_clusters=nb_clust)\n",
    "km.fit(trans_data)\n",
    "labels_pred=km.labels_\n",
    "\n",
    "\n",
    "cmapx=plt.get_cmap('rainbow')\n",
    "x=np.linspace(0,1,np.max(labels_pred)+1)\n",
    "col=[cmapx(xx) for xx in x ]\n",
    "markers = {0:'*',1: '.', 2:',',3: 'o',4: 'v',5: '^',6: '<',7: '>',8: 3 ,9:'d',10: '+',11:'x',12:'D',13: '|',14: '_',15:4,16:0,17:1,18:2,19:6,20:7}\n",
    "\n",
    "\n",
    "for c in np.unique(role_id):\n",
    "        indc=[i for i,x in enumerate(role_id) if x==c]\n",
    "        _ = plt.scatter(trans_data[indc,0], trans_data[indc,1],c=np.array(col)[list(np.array(labels_pred)[indc])] ,marker=markers[c%len(markers)],s=500)\n",
    "\n",
    "labels = role_id\n",
    "for label,c, x, y in zip(labels,labels_pred, trans_data[:, 0], trans_data[:, 1]):\n",
    "            _ = plt.annotate(label,xy=(x, y), xytext=(0, 0), textcoords='offset points')\n",
    "            "
   ]
  },
  {
   "cell_type": "markdown",
   "metadata": {},
   "source": [
    "## III. Visualizing the Characteristic functions\n",
    "\n",
    "We now propose to show how to visualize characteristic functions.\n"
   ]
  },
  {
   "cell_type": "code",
   "execution_count": null,
   "metadata": {
    "collapsed": false
   },
   "outputs": [],
   "source": [
    "mapping = {u: i for i,u in enumerate(np.unique(role_id))}\n",
    "cmap=plt.get_cmap('gnuplot')\n",
    "role_id_plot=[cmap(x) for x in np.linspace(0,1,len(np.unique(role_id)))]\n",
    "plt.figure()\n",
    "ind_x=range(chi[0].shape[0])[0::2]\n",
    "ind_y=range(chi[0].shape[0])[1::2]\n",
    "for i in np.random.choice(range(G.number_of_nodes()),10,replace=False):\n",
    "    _ = plt.plot(chi[i,ind_x],chi[i,ind_y],label=str(i),color=role_id_plot[mapping[role_id[i]]])\n",
    "\n",
    "_ = plt.legend(loc='center left',bbox_to_anchor=(1,0.5))\n"
   ]
  }
 ],
 "metadata": {
  "anaconda-cloud": {},
  "kernelspec": {
   "display_name": "Python [default]",
   "language": "python",
   "name": "python2"
  },
  "language_info": {
   "codemirror_mode": {
    "name": "ipython",
    "version": 2
   },
   "file_extension": ".py",
   "mimetype": "text/x-python",
   "name": "python",
   "nbconvert_exporter": "python",
   "pygments_lexer": "ipython2",
   "version": "2.7.11"
  }
 },
 "nbformat": 4,
 "nbformat_minor": 0
}
